{
 "cells": [
  {
   "cell_type": "markdown",
   "id": "69854094",
   "metadata": {},
   "source": [
    "## Reading and preparing data"
   ]
  },
  {
   "cell_type": "code",
   "execution_count": 321,
   "id": "0c291817",
   "metadata": {},
   "outputs": [
    {
     "name": "stderr",
     "output_type": "stream",
     "text": [
      "UsageError: unrecognized arguments: #D\n"
     ]
    }
   ],
   "source": [
    "import pandas as pd #A\n",
    "import numpy as np #B\n",
    "from matplotlib import pyplot as plt #C\n",
    "import seaborn as sns #C\n",
    "%matplotlib inline #D\n",
    "#A Import NumPy: a library for numerical operations\n",
    "#B Import Pandas: a library for tabular data\n",
    "#C Import plotting libraries: matplotlib and seaborn\n",
    "#D Make sure that plots are rendered correctly in jupyter notebooks."
   ]
  },
  {
   "cell_type": "code",
   "execution_count": 322,
   "id": "2b4a5a73",
   "metadata": {},
   "outputs": [],
   "source": [
    "df = pd.read_csv('common_clear.csv')"
   ]
  },
  {
   "cell_type": "code",
   "execution_count": 323,
   "id": "acb75cb1",
   "metadata": {},
   "outputs": [
    {
     "data": {
      "text/plain": [
       "959"
      ]
     },
     "execution_count": 323,
     "metadata": {},
     "output_type": "execute_result"
    }
   ],
   "source": [
    "len(df)\n",
    "#length of dataset"
   ]
  },
  {
   "cell_type": "code",
   "execution_count": 324,
   "id": "9f85a66a",
   "metadata": {},
   "outputs": [
    {
     "data": {
      "text/html": [
       "<div>\n",
       "<style scoped>\n",
       "    .dataframe tbody tr th:only-of-type {\n",
       "        vertical-align: middle;\n",
       "    }\n",
       "\n",
       "    .dataframe tbody tr th {\n",
       "        vertical-align: top;\n",
       "    }\n",
       "\n",
       "    .dataframe thead th {\n",
       "        text-align: right;\n",
       "    }\n",
       "</style>\n",
       "<table border=\"1\" class=\"dataframe\">\n",
       "  <thead>\n",
       "    <tr style=\"text-align: right;\">\n",
       "      <th></th>\n",
       "      <th>school</th>\n",
       "      <th>sex</th>\n",
       "      <th>age</th>\n",
       "      <th>address</th>\n",
       "      <th>famsize</th>\n",
       "      <th>Pstatus</th>\n",
       "      <th>Medu</th>\n",
       "      <th>Fedu</th>\n",
       "      <th>Mjob</th>\n",
       "      <th>Fjob</th>\n",
       "      <th>...</th>\n",
       "      <th>freetime</th>\n",
       "      <th>goout</th>\n",
       "      <th>Dalc</th>\n",
       "      <th>Walc</th>\n",
       "      <th>health</th>\n",
       "      <th>absences</th>\n",
       "      <th>G1</th>\n",
       "      <th>G2</th>\n",
       "      <th>G3</th>\n",
       "      <th>is_por</th>\n",
       "    </tr>\n",
       "  </thead>\n",
       "  <tbody>\n",
       "    <tr>\n",
       "      <th>0</th>\n",
       "      <td>GP</td>\n",
       "      <td>F</td>\n",
       "      <td>18</td>\n",
       "      <td>U</td>\n",
       "      <td>GT3</td>\n",
       "      <td>A</td>\n",
       "      <td>4</td>\n",
       "      <td>4</td>\n",
       "      <td>at_home</td>\n",
       "      <td>teacher</td>\n",
       "      <td>...</td>\n",
       "      <td>3</td>\n",
       "      <td>4</td>\n",
       "      <td>1</td>\n",
       "      <td>1</td>\n",
       "      <td>3</td>\n",
       "      <td>4</td>\n",
       "      <td>0</td>\n",
       "      <td>11</td>\n",
       "      <td>11</td>\n",
       "      <td>1</td>\n",
       "    </tr>\n",
       "    <tr>\n",
       "      <th>1</th>\n",
       "      <td>GP</td>\n",
       "      <td>F</td>\n",
       "      <td>17</td>\n",
       "      <td>U</td>\n",
       "      <td>GT3</td>\n",
       "      <td>T</td>\n",
       "      <td>1</td>\n",
       "      <td>1</td>\n",
       "      <td>at_home</td>\n",
       "      <td>other</td>\n",
       "      <td>...</td>\n",
       "      <td>3</td>\n",
       "      <td>3</td>\n",
       "      <td>1</td>\n",
       "      <td>1</td>\n",
       "      <td>3</td>\n",
       "      <td>2</td>\n",
       "      <td>9</td>\n",
       "      <td>11</td>\n",
       "      <td>11</td>\n",
       "      <td>1</td>\n",
       "    </tr>\n",
       "    <tr>\n",
       "      <th>2</th>\n",
       "      <td>GP</td>\n",
       "      <td>F</td>\n",
       "      <td>15</td>\n",
       "      <td>U</td>\n",
       "      <td>LE3</td>\n",
       "      <td>T</td>\n",
       "      <td>1</td>\n",
       "      <td>1</td>\n",
       "      <td>at_home</td>\n",
       "      <td>other</td>\n",
       "      <td>...</td>\n",
       "      <td>3</td>\n",
       "      <td>2</td>\n",
       "      <td>2</td>\n",
       "      <td>3</td>\n",
       "      <td>3</td>\n",
       "      <td>6</td>\n",
       "      <td>12</td>\n",
       "      <td>13</td>\n",
       "      <td>12</td>\n",
       "      <td>1</td>\n",
       "    </tr>\n",
       "    <tr>\n",
       "      <th>3</th>\n",
       "      <td>GP</td>\n",
       "      <td>F</td>\n",
       "      <td>15</td>\n",
       "      <td>U</td>\n",
       "      <td>GT3</td>\n",
       "      <td>T</td>\n",
       "      <td>4</td>\n",
       "      <td>2</td>\n",
       "      <td>health</td>\n",
       "      <td>services</td>\n",
       "      <td>...</td>\n",
       "      <td>2</td>\n",
       "      <td>2</td>\n",
       "      <td>1</td>\n",
       "      <td>1</td>\n",
       "      <td>5</td>\n",
       "      <td>0</td>\n",
       "      <td>14</td>\n",
       "      <td>14</td>\n",
       "      <td>14</td>\n",
       "      <td>1</td>\n",
       "    </tr>\n",
       "    <tr>\n",
       "      <th>4</th>\n",
       "      <td>GP</td>\n",
       "      <td>F</td>\n",
       "      <td>16</td>\n",
       "      <td>U</td>\n",
       "      <td>GT3</td>\n",
       "      <td>T</td>\n",
       "      <td>3</td>\n",
       "      <td>3</td>\n",
       "      <td>other</td>\n",
       "      <td>other</td>\n",
       "      <td>...</td>\n",
       "      <td>3</td>\n",
       "      <td>2</td>\n",
       "      <td>1</td>\n",
       "      <td>2</td>\n",
       "      <td>5</td>\n",
       "      <td>0</td>\n",
       "      <td>11</td>\n",
       "      <td>13</td>\n",
       "      <td>13</td>\n",
       "      <td>1</td>\n",
       "    </tr>\n",
       "  </tbody>\n",
       "</table>\n",
       "<p>5 rows × 34 columns</p>\n",
       "</div>"
      ],
      "text/plain": [
       "  school sex  age address famsize Pstatus  Medu  Fedu     Mjob      Fjob  ...  \\\n",
       "0     GP   F   18       U     GT3       A     4     4  at_home   teacher  ...   \n",
       "1     GP   F   17       U     GT3       T     1     1  at_home     other  ...   \n",
       "2     GP   F   15       U     LE3       T     1     1  at_home     other  ...   \n",
       "3     GP   F   15       U     GT3       T     4     2   health  services  ...   \n",
       "4     GP   F   16       U     GT3       T     3     3    other     other  ...   \n",
       "\n",
       "  freetime goout  Dalc  Walc  health absences  G1  G2  G3 is_por  \n",
       "0        3     4     1     1       3        4   0  11  11      1  \n",
       "1        3     3     1     1       3        2   9  11  11      1  \n",
       "2        3     2     2     3       3        6  12  13  12      1  \n",
       "3        2     2     1     1       5        0  14  14  14      1  \n",
       "4        3     2     1     2       5        0  11  13  13      1  \n",
       "\n",
       "[5 rows x 34 columns]"
      ]
     },
     "execution_count": 324,
     "metadata": {},
     "output_type": "execute_result"
    }
   ],
   "source": [
    "df.head()"
   ]
  },
  {
   "cell_type": "code",
   "execution_count": 325,
   "id": "7d37ca71",
   "metadata": {},
   "outputs": [],
   "source": [
    "df.columns = df.columns.str.lower().str.replace(' ', '_')"
   ]
  },
  {
   "cell_type": "code",
   "execution_count": 326,
   "id": "92fbc7ef",
   "metadata": {},
   "outputs": [],
   "source": [
    "#splitting data set in to categorical and numerical\n",
    "num_data = df.select_dtypes(include=[np.number],exclude=['object']).copy()\n",
    "cat_data = df.select_dtypes(include=['object'],exclude=[np.number]).copy()\n",
    "#getting numerical and cateorical headers\n",
    "num_headers=[]\n",
    "for col in num_data.columns:\n",
    "    num_headers.append(col)\n",
    "cat_headers=[]\n",
    "for col in cat_data.columns:\n",
    "    cat_headers.append(col)"
   ]
  },
  {
   "cell_type": "code",
   "execution_count": 327,
   "id": "bb0a1a09",
   "metadata": {},
   "outputs": [
    {
     "data": {
      "text/plain": [
       "{'school': {'school': {'GP': 1, 'MS': 2}},\n",
       " 'sex': {'sex': {'F': 1, 'M': 2}},\n",
       " 'address': {'address': {'R': 1, 'U': 2}},\n",
       " 'famsize': {'famsize': {'GT3': 1, 'LE3': 2}},\n",
       " 'pstatus': {'pstatus': {'A': 1, 'T': 2}},\n",
       " 'mjob': {'mjob': {'at_home': 1,\n",
       "   'health': 2,\n",
       "   'other': 3,\n",
       "   'services': 4,\n",
       "   'teacher': 5}},\n",
       " 'fjob': {'fjob': {'at_home': 1,\n",
       "   'health': 2,\n",
       "   'other': 3,\n",
       "   'services': 4,\n",
       "   'teacher': 5}},\n",
       " 'reason': {'reason': {'course': 1, 'home': 2, 'other': 3, 'reputation': 4}},\n",
       " 'guardian': {'guardian': {'father': 1, 'mother': 2, 'other': 3}},\n",
       " 'schoolsup': {'schoolsup': {'no': 1, 'yes': 2}},\n",
       " 'famsup': {'famsup': {'no': 1, 'yes': 2}},\n",
       " 'paid': {'paid': {'no': 1, 'yes': 2}},\n",
       " 'activities': {'activities': {'no': 1, 'yes': 2}},\n",
       " 'nursery': {'nursery': {'no': 1, 'yes': 2}},\n",
       " 'higher': {'higher': {'no': 1, 'yes': 2}},\n",
       " 'internet': {'internet': {'no': 1, 'yes': 2}},\n",
       " 'romantic': {'romantic': {'no': 1, 'yes': 2}}}"
      ]
     },
     "execution_count": 327,
     "metadata": {},
     "output_type": "execute_result"
    }
   ],
   "source": [
    "#encode categorical values\n",
    "# create dictionary of ordinal to integer mapping\n",
    "#defined field names\n",
    "cat_dataReplace = cat_data.copy()\n",
    "replace_map_comp_dict={}\n",
    "cat_headers_num=[]\n",
    "for col in cat_data.columns:\n",
    "    cat_headers_num.append(col)\n",
    "for name in cat_headers:\n",
    "    labels = cat_data[name].astype('category').cat.categories.tolist()\n",
    "    replace_map_comp = {name : {k: v for k,v in zip(labels,list(range(1,len(labels)+1)))}}\n",
    "    cat_dataReplace.replace(replace_map_comp, inplace=True)\n",
    "    replace_map_comp_dict[name] = replace_map_comp\n",
    "#Print dictinary for cat values\n",
    "replace_map_comp_dict"
   ]
  },
  {
   "cell_type": "code",
   "execution_count": 328,
   "id": "1d205a77",
   "metadata": {},
   "outputs": [
    {
     "data": {
      "text/html": [
       "<div>\n",
       "<style scoped>\n",
       "    .dataframe tbody tr th:only-of-type {\n",
       "        vertical-align: middle;\n",
       "    }\n",
       "\n",
       "    .dataframe tbody tr th {\n",
       "        vertical-align: top;\n",
       "    }\n",
       "\n",
       "    .dataframe thead th {\n",
       "        text-align: right;\n",
       "    }\n",
       "</style>\n",
       "<table border=\"1\" class=\"dataframe\">\n",
       "  <thead>\n",
       "    <tr style=\"text-align: right;\">\n",
       "      <th></th>\n",
       "      <th>school</th>\n",
       "      <th>sex</th>\n",
       "      <th>address</th>\n",
       "      <th>famsize</th>\n",
       "      <th>pstatus</th>\n",
       "      <th>mjob</th>\n",
       "      <th>fjob</th>\n",
       "      <th>reason</th>\n",
       "      <th>guardian</th>\n",
       "      <th>schoolsup</th>\n",
       "      <th>...</th>\n",
       "      <th>freetime</th>\n",
       "      <th>goout</th>\n",
       "      <th>dalc</th>\n",
       "      <th>walc</th>\n",
       "      <th>health</th>\n",
       "      <th>absences</th>\n",
       "      <th>g1</th>\n",
       "      <th>g2</th>\n",
       "      <th>g3</th>\n",
       "      <th>is_por</th>\n",
       "    </tr>\n",
       "  </thead>\n",
       "  <tbody>\n",
       "    <tr>\n",
       "      <th>0</th>\n",
       "      <td>1</td>\n",
       "      <td>1</td>\n",
       "      <td>2</td>\n",
       "      <td>1</td>\n",
       "      <td>1</td>\n",
       "      <td>1</td>\n",
       "      <td>5</td>\n",
       "      <td>1</td>\n",
       "      <td>2</td>\n",
       "      <td>2</td>\n",
       "      <td>...</td>\n",
       "      <td>3</td>\n",
       "      <td>4</td>\n",
       "      <td>1</td>\n",
       "      <td>1</td>\n",
       "      <td>3</td>\n",
       "      <td>4</td>\n",
       "      <td>0</td>\n",
       "      <td>11</td>\n",
       "      <td>11</td>\n",
       "      <td>1</td>\n",
       "    </tr>\n",
       "    <tr>\n",
       "      <th>1</th>\n",
       "      <td>1</td>\n",
       "      <td>1</td>\n",
       "      <td>2</td>\n",
       "      <td>1</td>\n",
       "      <td>2</td>\n",
       "      <td>1</td>\n",
       "      <td>3</td>\n",
       "      <td>1</td>\n",
       "      <td>1</td>\n",
       "      <td>1</td>\n",
       "      <td>...</td>\n",
       "      <td>3</td>\n",
       "      <td>3</td>\n",
       "      <td>1</td>\n",
       "      <td>1</td>\n",
       "      <td>3</td>\n",
       "      <td>2</td>\n",
       "      <td>9</td>\n",
       "      <td>11</td>\n",
       "      <td>11</td>\n",
       "      <td>1</td>\n",
       "    </tr>\n",
       "    <tr>\n",
       "      <th>2</th>\n",
       "      <td>1</td>\n",
       "      <td>1</td>\n",
       "      <td>2</td>\n",
       "      <td>2</td>\n",
       "      <td>2</td>\n",
       "      <td>1</td>\n",
       "      <td>3</td>\n",
       "      <td>3</td>\n",
       "      <td>2</td>\n",
       "      <td>2</td>\n",
       "      <td>...</td>\n",
       "      <td>3</td>\n",
       "      <td>2</td>\n",
       "      <td>2</td>\n",
       "      <td>3</td>\n",
       "      <td>3</td>\n",
       "      <td>6</td>\n",
       "      <td>12</td>\n",
       "      <td>13</td>\n",
       "      <td>12</td>\n",
       "      <td>1</td>\n",
       "    </tr>\n",
       "    <tr>\n",
       "      <th>3</th>\n",
       "      <td>1</td>\n",
       "      <td>1</td>\n",
       "      <td>2</td>\n",
       "      <td>1</td>\n",
       "      <td>2</td>\n",
       "      <td>2</td>\n",
       "      <td>4</td>\n",
       "      <td>2</td>\n",
       "      <td>2</td>\n",
       "      <td>1</td>\n",
       "      <td>...</td>\n",
       "      <td>2</td>\n",
       "      <td>2</td>\n",
       "      <td>1</td>\n",
       "      <td>1</td>\n",
       "      <td>5</td>\n",
       "      <td>0</td>\n",
       "      <td>14</td>\n",
       "      <td>14</td>\n",
       "      <td>14</td>\n",
       "      <td>1</td>\n",
       "    </tr>\n",
       "    <tr>\n",
       "      <th>4</th>\n",
       "      <td>1</td>\n",
       "      <td>1</td>\n",
       "      <td>2</td>\n",
       "      <td>1</td>\n",
       "      <td>2</td>\n",
       "      <td>3</td>\n",
       "      <td>3</td>\n",
       "      <td>2</td>\n",
       "      <td>1</td>\n",
       "      <td>1</td>\n",
       "      <td>...</td>\n",
       "      <td>3</td>\n",
       "      <td>2</td>\n",
       "      <td>1</td>\n",
       "      <td>2</td>\n",
       "      <td>5</td>\n",
       "      <td>0</td>\n",
       "      <td>11</td>\n",
       "      <td>13</td>\n",
       "      <td>13</td>\n",
       "      <td>1</td>\n",
       "    </tr>\n",
       "  </tbody>\n",
       "</table>\n",
       "<p>5 rows × 34 columns</p>\n",
       "</div>"
      ],
      "text/plain": [
       "   school  sex  address  famsize  pstatus  mjob  fjob  reason  guardian  \\\n",
       "0       1    1        2        1        1     1     5       1         2   \n",
       "1       1    1        2        1        2     1     3       1         1   \n",
       "2       1    1        2        2        2     1     3       3         2   \n",
       "3       1    1        2        1        2     2     4       2         2   \n",
       "4       1    1        2        1        2     3     3       2         1   \n",
       "\n",
       "   schoolsup  ...  freetime  goout  dalc  walc  health  absences  g1  g2  g3  \\\n",
       "0          2  ...         3      4     1     1       3         4   0  11  11   \n",
       "1          1  ...         3      3     1     1       3         2   9  11  11   \n",
       "2          2  ...         3      2     2     3       3         6  12  13  12   \n",
       "3          1  ...         2      2     1     1       5         0  14  14  14   \n",
       "4          1  ...         3      2     1     2       5         0  11  13  13   \n",
       "\n",
       "   is_por  \n",
       "0       1  \n",
       "1       1  \n",
       "2       1  \n",
       "3       1  \n",
       "4       1  \n",
       "\n",
       "[5 rows x 34 columns]"
      ]
     },
     "execution_count": 328,
     "metadata": {},
     "output_type": "execute_result"
    }
   ],
   "source": [
    "#merge cat and num values\n",
    "df_merged = pd.concat([cat_dataReplace, num_data],axis=1)\n",
    "df_merged.head()"
   ]
  },
  {
   "cell_type": "code",
   "execution_count": 329,
   "id": "dfaa4596",
   "metadata": {},
   "outputs": [],
   "source": [
    "#df_merged.columns = df_merged.columns.str.lower().str.replace(' ', '_') # A\n",
    "#string_columns = list(df_merged.dtypes[df.dtypes == 'object'].index) # B\n",
    "#for col in string_columns:\n",
    "#    df_merged[col] = df_merged[col].str.lower().str.replace(' ', '_') # C\n",
    "#A Lowercase all the column names, and replace spaces with underscores.\n",
    "#B Select only columns with string values.\n",
    "#C Lowercase and replace spaces with underscores for values in all string columns of the dataframe.\n",
    "#After this initial preprocessing, the dataframe looks more uniform"
   ]
  },
  {
   "cell_type": "code",
   "execution_count": 330,
   "id": "273fcf3b",
   "metadata": {},
   "outputs": [
    {
     "name": "stdout",
     "output_type": "stream",
     "text": [
      "['school', 'sex', 'address', 'famsize', 'pstatus', 'mjob', 'fjob', 'reason', 'guardian', 'schoolsup', 'famsup', 'paid', 'activities', 'nursery', 'higher', 'internet', 'romantic', 'age', 'medu', 'fedu', 'traveltime', 'studytime', 'failures', 'famrel', 'freetime', 'goout', 'dalc', 'walc', 'health', 'absences', 'g1', 'g2', 'g3', 'is_por']\n"
     ]
    }
   ],
   "source": [
    "# getting headers, iterating the columns\n",
    "headers=[]\n",
    "for col in df_merged.columns:\n",
    "    headers.append(col)\n",
    "print(headers)"
   ]
  },
  {
   "cell_type": "markdown",
   "id": "233f4a2f",
   "metadata": {},
   "source": [
    "## Target variable analysis"
   ]
  },
  {
   "cell_type": "code",
   "execution_count": 331,
   "id": "1371be85",
   "metadata": {},
   "outputs": [
    {
     "data": {
      "text/plain": [
       "<AxesSubplot:xlabel='g3', ylabel='Count'>"
      ]
     },
     "execution_count": 331,
     "metadata": {},
     "output_type": "execute_result"
    },
    {
     "data": {
      "image/png": "[encoded data removed]",
      "text/plain": [
       "<Figure size 432x288 with 1 Axes>"
      ]
     },
     "metadata": {
      "needs_background": "light"
     },
     "output_type": "display_data"
    }
   ],
   "source": [
    "sns.histplot(df_merged.g3, kde=False)\n",
    "#One of the first steps of exploratory data analysis should always be to look at what the\n",
    "#values of y look like. We typically do this by checking the distribution of y: a visual description\n",
    "#of what the possible values of y can be and how often they occur. This type of visualization is\n",
    "#called a histogram."
   ]
  },
  {
   "cell_type": "code",
   "execution_count": 332,
   "id": "8a969327",
   "metadata": {},
   "outputs": [
    {
     "name": "stderr",
     "output_type": "stream",
     "text": [
      "C:\\Users\\Tanya\\anaconda3\\lib\\site-packages\\seaborn\\distributions.py:2557: FutureWarning: `distplot` is a deprecated function and will be removed in a future version. Please adapt your code to use either `displot` (a figure-level function with similar flexibility) or `histplot` (an axes-level function for histograms).\n",
      "  warnings.warn(msg, FutureWarning)\n"
     ]
    },
    {
     "data": {
      "text/plain": [
       "<AxesSubplot:xlabel='g3'>"
      ]
     },
     "execution_count": 332,
     "metadata": {},
     "output_type": "execute_result"
    },
    {
     "data": {
      "image/png": "[encoded data removed]",
      "text/plain": [
       "<Figure size 432x288 with 1 Axes>"
      ]
     },
     "metadata": {
      "needs_background": "light"
     },
     "output_type": "display_data"
    }
   ],
   "source": [
    "#The +1 part is important in cases that have zeros. The logarithm of zero is minus infinity, but\n",
    "#the logarithm of one is zero. If our values are all non-negative, by adding 1, we make sure\n",
    "#that the transformed values do not go below zero.\n",
    "#NumPy has a function that performs this\n",
    "#transformation:\n",
    "log_price = np.log1p(df_merged.g3)\n",
    "sns.distplot(log_price, kde=False)"
   ]
  },
  {
   "cell_type": "code",
   "execution_count": 333,
   "id": "d743f0ea",
   "metadata": {},
   "outputs": [],
   "source": [
    "#Generally, it’s good when the target distribution looks like the normal distribution. Under\n",
    "#this condition, models such as linear regression perform well."
   ]
  },
  {
   "cell_type": "code",
   "execution_count": 334,
   "id": "693ee636",
   "metadata": {},
   "outputs": [],
   "source": [
    "#check for missing values in the data. This step is important because typically, machine learning\n",
    "#models cannot deal with missing values automatically. We need to know whether we need to\n",
    "#do anything special to handle those values."
   ]
  },
  {
   "cell_type": "code",
   "execution_count": 335,
   "id": "27c3ce0a",
   "metadata": {},
   "outputs": [
    {
     "data": {
      "text/plain": [
       "school        0\n",
       "sex           0\n",
       "address       0\n",
       "famsize       0\n",
       "pstatus       0\n",
       "mjob          0\n",
       "fjob          0\n",
       "reason        0\n",
       "guardian      0\n",
       "schoolsup     0\n",
       "famsup        0\n",
       "paid          0\n",
       "activities    0\n",
       "nursery       0\n",
       "higher        0\n",
       "internet      0\n",
       "romantic      0\n",
       "age           0\n",
       "medu          0\n",
       "fedu          0\n",
       "traveltime    0\n",
       "studytime     0\n",
       "failures      0\n",
       "famrel        0\n",
       "freetime      0\n",
       "goout         0\n",
       "dalc          0\n",
       "walc          0\n",
       "health        0\n",
       "absences      0\n",
       "g1            0\n",
       "g2            0\n",
       "g3            0\n",
       "is_por        0\n",
       "dtype: int64"
      ]
     },
     "execution_count": 335,
     "metadata": {},
     "output_type": "execute_result"
    }
   ],
   "source": [
    "df_merged.isnull().sum()"
   ]
  },
  {
   "cell_type": "code",
   "execution_count": 336,
   "id": "b2d944ed",
   "metadata": {},
   "outputs": [],
   "source": [
    "#We see that all features and target variable doesn't have missed values."
   ]
  },
  {
   "cell_type": "markdown",
   "id": "481ad399",
   "metadata": {},
   "source": [
    "## Validation framework (splitting dataset)"
   ]
  },
  {
   "cell_type": "code",
   "execution_count": 337,
   "id": "37df8993",
   "metadata": {},
   "outputs": [],
   "source": [
    "#Let’s split the dataframe such that:\n",
    "#• 20% of data goes to validation,\n",
    "#• 20% goes to test, and\n",
    "#• the remaining 60% goes to train."
   ]
  },
  {
   "cell_type": "code",
   "execution_count": 338,
   "id": "2b705da4",
   "metadata": {},
   "outputs": [],
   "source": [
    "n = len(df_merged) #A\n",
    "n_val = int(0.2 * n) #B\n",
    "n_test = int(0.2 * n) #B\n",
    "n_train = n - (n_val + n_test) #B\n",
    "np.random.seed(3) #C\n",
    "idx = np.arange(n) #D\n",
    "np.random.shuffle(idx) #D\n",
    "df_shuffled = df_merged.iloc[idx] #E\n",
    "df_train = df_shuffled.iloc[:n_train].copy() #F\n",
    "df_val = df_shuffled.iloc[n_train:n_train+n_val].copy() #F\n",
    "df_test = df_shuffled.iloc[n_train+n_val:].copy() #F\n",
    "#A Get the number of rows in the dataframe.\n",
    "#B Calculate how many rows should go to train, validation, and test.\n",
    "#C Fix the random seed to make sure that the results are reproducible.\n",
    "#D Create a NumPy array with indices from 0 to (n-1) and shuffle it.\n",
    "#E Use the array with indices to get a shuffled dataframe.\n",
    "#F Split the shuffled dataframe into train, validation, and test."
   ]
  },
  {
   "cell_type": "code",
   "execution_count": 339,
   "id": "d7316270",
   "metadata": {},
   "outputs": [],
   "source": [
    "#Now the dataframe is split into three parts, and we can continue. Our initial analysis showed a\n",
    "#long tail in the distribution of prices, and to remove its effect, we need to apply the log\n",
    "#transformation. We can do that for each dataframe separately:\n",
    "y_train = np.log1p(df_train.g3.values)\n",
    "y_val = np.log1p(df_val.g3.values)\n",
    "y_test = np.log1p(df_test.g3.values)"
   ]
  },
  {
   "cell_type": "code",
   "execution_count": 340,
   "id": "2aa76cc4",
   "metadata": {},
   "outputs": [],
   "source": [
    "#To avoid accidentally using the target variable later, let’s remove it from the dataframes:\n",
    "del df_train['g3']\n",
    "del df_val['g3']\n",
    "del df_test['g3']"
   ]
  },
  {
   "cell_type": "markdown",
   "id": "aa1f6128",
   "metadata": {},
   "source": [
    "## Linear regression theory"
   ]
  },
  {
   "cell_type": "code",
   "execution_count": 341,
   "id": "a873e1f4",
   "metadata": {},
   "outputs": [],
   "source": [
    "#The weights from data: we use the target variable y to find such w that combines\n",
    "#the features of X in the best possible way. “Best possible” in the case of linear regression\n",
    "#means that it minimizes the error between the predictions g(X) and the actual target y.\n",
    "#There are multiple ways to do that. We will use normal equation, which is the simplest\n",
    "#method to implement. The weight vector 𝑤 can be computed with the following formula:\n",
    "#inv(X.T.dot(X)).dot(X.T).dot(y)"
   ]
  },
  {
   "cell_type": "code",
   "execution_count": 342,
   "id": "6f1ab2c7",
   "metadata": {},
   "outputs": [],
   "source": [
    "#To implement the normal equation, we need to do the following:\n",
    "#1. Create a function that takes in a matrix X with features and a vector y with the target.\n",
    "#2. Add a dummy column (the feature that is always set to 1) to the matrix X.\n",
    "#3. Train the model: compute the weights w by using the normal equation.\n",
    "#4. Split this w into the bias w0 and the rest of the weights, and return them.\n",
    "#The last step — splitting w into the bias term and the rest — is optional and mostly for\n",
    "#convenience; otherwise, we need to add the dummy column every time we want to make\n",
    "#predictions instead of doing it once during training.\n",
    "#Let’s implement it."
   ]
  },
  {
   "cell_type": "code",
   "execution_count": 343,
   "id": "02ae4559",
   "metadata": {},
   "outputs": [],
   "source": [
    "def linear_regression(X, y):\n",
    "    # adding the dummy column\n",
    "    ones = np.ones(X.shape[0]) # A\n",
    "    X = np.column_stack([ones, X]) # B\n",
    "    # normal equation formula\n",
    "    XTX = X.T.dot(X) # C\n",
    "    XTX_inv = np.linalg.inv(XTX) # D\n",
    "    w = XTX_inv.dot(X.T).dot(y) # E\n",
    "    return w[0], w[1:] # F\n",
    "#A Create an array that contains only 1s.\n",
    "#B Add the array of 1s as the first column of X.\n",
    "#C Compute XTX.\n",
    "#D Compute the inverse of XTX.\n",
    "#E Compute the rest of the normal equation.\n",
    "#F Split the weights vector into the bias and the rest of the weights."
   ]
  },
  {
   "cell_type": "markdown",
   "id": "63d9abd3",
   "metadata": {},
   "source": [
    "## Predicting final grade (g3)"
   ]
  },
  {
   "cell_type": "code",
   "execution_count": 344,
   "id": "ca7c33bb",
   "metadata": {},
   "outputs": [
    {
     "data": {
      "text/plain": [
       "['age',\n",
       " 'medu',\n",
       " 'fedu',\n",
       " 'traveltime',\n",
       " 'studytime',\n",
       " 'failures',\n",
       " 'famrel',\n",
       " 'freetime',\n",
       " 'goout',\n",
       " 'dalc',\n",
       " 'walc',\n",
       " 'health',\n",
       " 'absences',\n",
       " 'g1',\n",
       " 'g2',\n",
       " 'g3',\n",
       " 'is_por']"
      ]
     },
     "execution_count": 344,
     "metadata": {},
     "output_type": "execute_result"
    }
   ],
   "source": [
    "num_headers"
   ]
  },
  {
   "cell_type": "code",
   "execution_count": 345,
   "id": "94e31632",
   "metadata": {},
   "outputs": [],
   "source": [
    "num_headers.remove('g3')"
   ]
  },
  {
   "cell_type": "code",
   "execution_count": 346,
   "id": "ac65a0c3",
   "metadata": {},
   "outputs": [],
   "source": [
    "base = num_headers\n",
    "df_num = df_train[base]\n",
    "df_num = df_num.fillna(0)"
   ]
  },
  {
   "cell_type": "code",
   "execution_count": 347,
   "id": "4d876da1",
   "metadata": {},
   "outputs": [
    {
     "data": {
      "text/plain": [
       "['age',\n",
       " 'medu',\n",
       " 'fedu',\n",
       " 'traveltime',\n",
       " 'studytime',\n",
       " 'failures',\n",
       " 'famrel',\n",
       " 'freetime',\n",
       " 'goout',\n",
       " 'dalc',\n",
       " 'walc',\n",
       " 'health',\n",
       " 'absences',\n",
       " 'g1',\n",
       " 'g2',\n",
       " 'is_por']"
      ]
     },
     "execution_count": 347,
     "metadata": {},
     "output_type": "execute_result"
    }
   ],
   "source": [
    "num_headers"
   ]
  },
  {
   "cell_type": "code",
   "execution_count": 348,
   "id": "1f0afed6",
   "metadata": {},
   "outputs": [],
   "source": [
    "X_train = df_num.values\n",
    "w_0, w = linear_regression(X_train, y_train)"
   ]
  },
  {
   "cell_type": "code",
   "execution_count": 349,
   "id": "e3a9c7f7",
   "metadata": {},
   "outputs": [],
   "source": [
    "y_pred = w_0 + X_train.dot(w)"
   ]
  },
  {
   "cell_type": "code",
   "execution_count": 350,
   "id": "c856c0ea",
   "metadata": {},
   "outputs": [
    {
     "name": "stderr",
     "output_type": "stream",
     "text": [
      "C:\\Users\\Tanya\\anaconda3\\lib\\site-packages\\seaborn\\distributions.py:2557: FutureWarning: `distplot` is a deprecated function and will be removed in a future version. Please adapt your code to use either `displot` (a figure-level function with similar flexibility) or `histplot` (an axes-level function for histograms).\n",
      "  warnings.warn(msg, FutureWarning)\n"
     ]
    },
    {
     "data": {
      "text/plain": [
       "<matplotlib.legend.Legend at 0x20343b06e50>"
      ]
     },
     "execution_count": 350,
     "metadata": {},
     "output_type": "execute_result"
    },
    {
     "data": {
      "image/png": "[encoded data removed]",
      "text/plain": [
       "<Figure size 432x288 with 1 Axes>"
      ]
     },
     "metadata": {
      "needs_background": "light"
     },
     "output_type": "display_data"
    }
   ],
   "source": [
    "sns.distplot(y_pred, label='prediction')\n",
    "sns.distplot(y_train, label='target')\n",
    "plt.legend()"
   ]
  },
  {
   "cell_type": "markdown",
   "id": "a2d2f231",
   "metadata": {},
   "source": [
    " ## RMSE: evaluating model quality (root mean squared error)"
   ]
  },
  {
   "cell_type": "code",
   "execution_count": 351,
   "id": "7b16c719",
   "metadata": {},
   "outputs": [],
   "source": [
    "def rmse(y, y_pred):\n",
    "    error = y_pred - y # A\n",
    "    mse = (error ** 2).mean() # B\n",
    "    return np.sqrt(mse) # C\n",
    "#A Compute the difference between the prediction and the target.\n",
    "#B Compute MSE: first compute the squared error and then calculate its mean.\n",
    "#C Take the square root to get RMSE."
   ]
  },
  {
   "cell_type": "markdown",
   "id": "af73cee7",
   "metadata": {},
   "source": [
    "## Validating the model"
   ]
  },
  {
   "cell_type": "code",
   "execution_count": 352,
   "id": "296e591c",
   "metadata": {},
   "outputs": [],
   "source": [
    "#let's get rid of duplicate in sets preparation\n",
    "def prepare_X(df):\n",
    "    df_num = df[base]\n",
    "    df_num = df_num.fillna(0)\n",
    "    X = df_num.values\n",
    "    return X"
   ]
  },
  {
   "cell_type": "code",
   "execution_count": 353,
   "id": "6acc7d6c",
   "metadata": {},
   "outputs": [
    {
     "name": "stdout",
     "output_type": "stream",
     "text": [
      "validation: 0.4235758015177759\n"
     ]
    }
   ],
   "source": [
    "#Now the whole training and evaluation becomes simpler and looks like this:\n",
    "X_train = prepare_X(df_train) #A\n",
    "w_0, w = linear_regression(X_train, y_train) #A\n",
    "X_val = prepare_X(df_val) #B\n",
    "y_pred = w_0 + X_val.dot(w) #B\n",
    "print('validation:', rmse(y_val, y_pred)) #C\n",
    "#A Train the model\n",
    "#B Apply the model to the validation dataset\n",
    "#C Compute RMSE on the validation data"
   ]
  },
  {
   "cell_type": "markdown",
   "id": "1c04baf4",
   "metadata": {},
   "source": [
    "## Simple feature engineering"
   ]
  },
  {
   "cell_type": "code",
   "execution_count": 354,
   "id": "fda15311",
   "metadata": {},
   "outputs": [],
   "source": [
    "#let's get rid of duplicate in sets preparation\n",
    "def prepare_X(df_merged):\n",
    "    df = df_merged.copy() # A\n",
    "    features = base.copy() # B\n",
    " # D\n",
    "    features.append('reason')\n",
    "    features.append('schoolsup')\n",
    "    features.append('romantic')\n",
    "    features.append('nursery')\n",
    "    df_num = df[features]\n",
    "    df_num = df_num.fillna(0)\n",
    "    X = df_num.values\n",
    "    return X"
   ]
  },
  {
   "cell_type": "code",
   "execution_count": 355,
   "id": "4e8efb94",
   "metadata": {},
   "outputs": [
    {
     "name": "stdout",
     "output_type": "stream",
     "text": [
      "validation: 0.4260897076785727\n"
     ]
    }
   ],
   "source": [
    "X_train = prepare_X(df_train)\n",
    "w_0, w = linear_regression(X_train, y_train)\n",
    "X_val = prepare_X(df_val)\n",
    "y_pred = w_0 + X_val.dot(w)\n",
    "print('validation:', rmse(y_val, y_pred))"
   ]
  },
  {
   "cell_type": "code",
   "execution_count": 356,
   "id": "5f2c074b",
   "metadata": {},
   "outputs": [
    {
     "name": "stderr",
     "output_type": "stream",
     "text": [
      "C:\\Users\\Tanya\\anaconda3\\lib\\site-packages\\seaborn\\distributions.py:2557: FutureWarning: `distplot` is a deprecated function and will be removed in a future version. Please adapt your code to use either `displot` (a figure-level function with similar flexibility) or `histplot` (an axes-level function for histograms).\n",
      "  warnings.warn(msg, FutureWarning)\n",
      "C:\\Users\\Tanya\\anaconda3\\lib\\site-packages\\seaborn\\distributions.py:2557: FutureWarning: `distplot` is a deprecated function and will be removed in a future version. Please adapt your code to use either `displot` (a figure-level function with similar flexibility) or `histplot` (an axes-level function for histograms).\n",
      "  warnings.warn(msg, FutureWarning)\n"
     ]
    },
    {
     "data": {
      "text/plain": [
       "<matplotlib.legend.Legend at 0x203475bef70>"
      ]
     },
     "execution_count": 356,
     "metadata": {},
     "output_type": "execute_result"
    },
    {
     "data": {
      "image/png": "[encoded data removed]",
      "text/plain": [
       "<Figure size 432x288 with 1 Axes>"
      ]
     },
     "metadata": {
      "needs_background": "light"
     },
     "output_type": "display_data"
    }
   ],
   "source": [
    "sns.distplot(y_pred, label='prediction')\n",
    "sns.distplot(y_val, label='target')\n",
    "plt.legend()"
   ]
  },
  {
   "cell_type": "code",
   "execution_count": 357,
   "id": "576d6610",
   "metadata": {},
   "outputs": [],
   "source": [
    "#Instead of helping, the new features didn't channged a score. "
   ]
  },
  {
   "cell_type": "markdown",
   "id": "d0e77712",
   "metadata": {},
   "source": [
    "## Regularization"
   ]
  },
  {
   "cell_type": "code",
   "execution_count": 358,
   "id": "c980babd",
   "metadata": {},
   "outputs": [],
   "source": [
    "#We saw that adding new features does not always help, and in our case, it made things a lot\n",
    "#worse. The reason for this behavior is numerical instability.\n",
    "#Sometimes, when adding new columns to X, we can\n",
    "#accidentally add a column that is a combination of other columns. For example, if we already\n",
    "#have the mpg in the city feature and decide to add kilometers per liter in the city, the second\n",
    "#feature is the same as the first one but multiplied by a constant.\n",
    "#When this happens, XTX becomes undetermined or singular, which means that it’s not\n",
    "#possible to find an inverse for this matrix. If we try to invert a singular matrix, NumPy will tell\n",
    "#us about that by raising a LinAlgError.\n",
    "#In numerical linear algebra, such issues are called numerical instability issues, and they\n",
    "#are typically solved with regularization techniques. The aim of regularization is to make sure\n",
    "#that the inverse exists by forcing the matrix to be invertible. Regularization is an important\n",
    "#concept in machine learning: it means “controlling” — controlling the weights of the model so\n",
    "#that they behave correctly and don’t grow too large, as in our case.\n",
    "#Regularized linear regression is often called ridge regression. Many libraries, including scikit-learn, use\n",
    "#ridge to refer to regularized linear regression and linear regression to refer to the unregularized model."
   ]
  },
  {
   "cell_type": "code",
   "execution_count": 359,
   "id": "e3f7a9aa",
   "metadata": {},
   "outputs": [],
   "source": [
    "#Let’s create a new function that uses this idea and implements linear regression with regularization."
   ]
  },
  {
   "cell_type": "code",
   "execution_count": 360,
   "id": "13eaa7ad",
   "metadata": {},
   "outputs": [],
   "source": [
    "def linear_regression_reg(X, y, r=0.0): #A\n",
    "    ones = np.ones(X.shape[0])\n",
    "    X = np.column_stack([ones, X])\n",
    "    XTX = X.T.dot(X)\n",
    "    reg = r * np.eye(XTX.shape[0]) #B\n",
    "    XTX = XTX + reg #B\n",
    "    XTX_inv = np.linalg.inv(XTX)\n",
    "    w = XTX_inv.dot(X.T).dot(y)\n",
    "    return w[0], w[1:]\n",
    "#A Control the amount of regularization by using the parameter r.\n",
    "#B Add r to the main diagonal of XTX."
   ]
  },
  {
   "cell_type": "code",
   "execution_count": 361,
   "id": "83c16bc5",
   "metadata": {},
   "outputs": [
    {
     "name": "stdout",
     "output_type": "stream",
     "text": [
      "validation: 0.42608840985568874\n"
     ]
    }
   ],
   "source": [
    "X_train = prepare_X(df_train)\n",
    "w_0, w = linear_regression_reg(X_train, y_train, r=0.001)\n",
    "X_val = prepare_X(df_val)\n",
    "y_pred = w_0 + X_val.dot(w)\n",
    "print('validation:', rmse(y_val, y_pred))"
   ]
  },
  {
   "cell_type": "code",
   "execution_count": 362,
   "id": "2a752c88",
   "metadata": {},
   "outputs": [
    {
     "name": "stdout",
     "output_type": "stream",
     "text": [
      "validation: 0.42607692280076187\n",
      "test: 0.37056590516584653\n"
     ]
    }
   ],
   "source": [
    "X_train = prepare_X(df_train)\n",
    "w_0, w = linear_regression_reg(X_train, y_train, r=0.01)\n",
    "X_val = prepare_X(df_val)\n",
    "y_pred = w_0 + X_val.dot(w)\n",
    "print('validation:', rmse(y_val, y_pred))\n",
    "X_test = prepare_X(df_test)\n",
    "y_pred = w_0 + X_test.dot(w)\n",
    "print('test:', rmse(y_test, y_pred))"
   ]
  },
  {
   "cell_type": "code",
   "execution_count": 363,
   "id": "38300d21",
   "metadata": {},
   "outputs": [
    {
     "data": {
      "text/plain": [
       "'C:\\\\Users\\\\Tanya\\\\TPU'"
      ]
     },
     "execution_count": 363,
     "metadata": {},
     "output_type": "execute_result"
    }
   ],
   "source": [
    "pwd"
   ]
  },
  {
   "cell_type": "code",
   "execution_count": null,
   "id": "7a958461",
   "metadata": {},
   "outputs": [],
   "source": []
  }
 ],
 "metadata": {
  "kernelspec": {
   "display_name": "Python 3",
   "language": "python",
   "name": "python3"
  },
  "language_info": {
   "codemirror_mode": {
    "name": "ipython",
    "version": 3
   },
   "file_extension": ".py",
   "mimetype": "text/x-python",
   "name": "python",
   "nbconvert_exporter": "python",
   "pygments_lexer": "ipython3",
   "version": "3.8.8"
  }
 },
 "nbformat": 4,
 "nbformat_minor": 5
}
